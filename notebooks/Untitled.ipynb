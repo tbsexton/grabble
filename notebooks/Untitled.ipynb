{
 "cells": [
  {
   "cell_type": "code",
   "execution_count": 22,
   "id": "1c77a384",
   "metadata": {},
   "outputs": [
    {
     "data": {
      "text/plain": [
       "Entity(label=3, props=(3,))"
      ]
     },
     "execution_count": 22,
     "metadata": {},
     "output_type": "execute_result"
    }
   ],
   "source": [
    "from typing import NewType, ParamSpec, TypeAlias, Container, Generator, NamedTuple, Hashable\n",
    "\n",
    "# StrID = NewType('StrID', str)\n",
    "# IntID = NewType('IntID', int)\n",
    "# type ID = StrID | IntID\n",
    "from collections.abc import Collection\n",
    "\n",
    "\n",
    "# data ID(label: Hashable)\n",
    "# data Properties(props: Collection)\n",
    "\n",
    "data Entity[_P<:tuple, _ID<:Hashable](label:_ID, props:_P)\n",
    "\n",
    "Entity(2,(3,))._replace(label=3)"
   ]
  },
  {
   "cell_type": "code",
   "execution_count": 11,
   "id": "53c18517",
   "metadata": {},
   "outputs": [
    {
     "data": {
      "text/plain": [
       "Entity()"
      ]
     },
     "execution_count": 11,
     "metadata": {},
     "output_type": "execute_result"
    }
   ],
   "source": [
    "Entity()"
   ]
  },
  {
   "cell_type": "code",
   "execution_count": 5,
   "id": "a8f0dfec",
   "metadata": {},
   "outputs": [],
   "source": [
    "from grabble.types.relations import Edge, PredicateRelation\n",
    "from grabble.types.roles import RelatedRole, EdgeRoles\n",
    "import typing as t\n",
    "import pydantic as pdt"
   ]
  },
  {
   "cell_type": "code",
   "execution_count": 9,
   "id": "8f558841",
   "metadata": {},
   "outputs": [
    {
     "data": {
      "text/plain": [
       "UndirectedEdge(id=None, roles=None, relation=None, label=None, metadata=None, directed=False, source='hello', target='world')"
      ]
     },
     "execution_count": 9,
     "metadata": {},
     "output_type": "execute_result"
    }
   ],
   "source": [
    "# to_relation(EdgeRoles.SOURCE, source='hello', target='world')\n",
    "pdt.parse_obj_as(Edge, dict(source='hello', target='world', directed=False))"
   ]
  },
  {
   "cell_type": "code",
   "execution_count": 8,
   "id": "e8c689ac",
   "metadata": {},
   "outputs": [
    {
     "data": {
      "text/plain": [
       "PredicateRelation(id=None, roles=None, relation=None, label=None, metadata=None, SUBJECT='hello', OBJECT='world')"
      ]
     },
     "execution_count": 8,
     "metadata": {},
     "output_type": "execute_result"
    }
   ],
   "source": [
    "PredicateRelation.parse_obj(dict(SUBJECT='hello', OBJECT='world'))"
   ]
  },
  {
   "cell_type": "code",
   "execution_count": 13,
   "id": "e9d1487a",
   "metadata": {},
   "outputs": [
    {
     "data": {
      "text/plain": [
       "True"
      ]
     },
     "execution_count": 13,
     "metadata": {},
     "output_type": "execute_result"
    }
   ],
   "source": [
    "to_relation.supports(EdgeRoles)\n"
   ]
  },
  {
   "cell_type": "code",
   "execution_count": null,
   "id": "165dd259",
   "metadata": {},
   "outputs": [],
   "source": []
  }
 ],
 "metadata": {
  "kernelspec": {
   "display_name": "Coconut [conda env:grabble]",
   "language": "coconut",
   "name": "conda-env-grabble-coconut"
  },
  "language_info": {
   "codemirror_mode": {
    "name": "python",
    "version": 3
   },
   "file_extension": ".coco",
   "mimetype": "text/x-python3",
   "name": "coconut",
   "pygments_lexer": "coconut",
   "version": "2.1.1-post_dev6"
  },
  "varInspector": {
   "cols": {
    "lenName": 16,
    "lenType": 16,
    "lenVar": 40
   },
   "kernels_config": {
    "python": {
     "delete_cmd_postfix": "",
     "delete_cmd_prefix": "del ",
     "library": "var_list.py",
     "varRefreshCmd": "print(var_dic_list())"
    },
    "r": {
     "delete_cmd_postfix": ") ",
     "delete_cmd_prefix": "rm(",
     "library": "var_list.r",
     "varRefreshCmd": "cat(var_dic_list()) "
    }
   },
   "types_to_exclude": [
    "module",
    "function",
    "builtin_function_or_method",
    "instance",
    "_Feature"
   ],
   "window_display": false
  }
 },
 "nbformat": 4,
 "nbformat_minor": 5
}
