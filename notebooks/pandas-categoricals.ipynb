{
 "cells": [
  {
   "cell_type": "markdown",
   "id": "5234d29d-6a9c-4c20-a7d9-2f1840d89fe9",
   "metadata": {},
   "source": [
    "## Using Pandas Categoricals\n",
    "\n",
    "possible to use categorical dtypes to carry \"set metadata\" around, instead of external set logic or dataframes. Then, indices can be passed around to consistently slice different dataframes in a bigger Xarray or Anndata object...."
   ]
  },
  {
   "cell_type": "code",
   "execution_count": 1,
   "id": "20d17ca7-7a7f-486d-bbe1-c23330e896af",
   "metadata": {},
   "outputs": [],
   "source": [
    "import pandas as pd"
   ]
  },
  {
   "cell_type": "code",
   "execution_count": 2,
   "id": "a6253a64-4bcd-4ad7-a47d-b118bc3525ae",
   "metadata": {},
   "outputs": [],
   "source": [
    "letters=pd.CategoricalIndex(list('abcde'), name='nodes')\n",
    "numbers=pd.CategoricalIndex([0,1,2,3], name='edges')"
   ]
  },
  {
   "cell_type": "code",
   "execution_count": 3,
   "id": "98ef2166-4cfb-4ddb-afff-0a378efdd8d1",
   "metadata": {},
   "outputs": [],
   "source": [
    "multi=pd.MultiIndex.from_product((letters,numbers))"
   ]
  },
  {
   "cell_type": "code",
   "execution_count": 4,
   "id": "a24112e8-06a5-46a1-b712-b9064788abb5",
   "metadata": {},
   "outputs": [
    {
     "data": {
      "text/plain": [
       "nodes    category\n",
       "edges    category\n",
       "dtype: object"
      ]
     },
     "execution_count": 4,
     "metadata": {},
     "output_type": "execute_result"
    }
   ],
   "source": [
    "multi.dtypes\n"
   ]
  },
  {
   "cell_type": "code",
   "execution_count": 5,
   "id": "83c10a64-d0ee-4fac-9b40-67c94506bbde",
   "metadata": {},
   "outputs": [
    {
     "data": {
      "text/plain": [
       "FrozenList([['a', 'b', 'c', 'd', 'e'], [0, 1, 2, 3]])"
      ]
     },
     "execution_count": 5,
     "metadata": {},
     "output_type": "execute_result"
    }
   ],
   "source": [
    "\n",
    "multi.levels"
   ]
  },
  {
   "cell_type": "code",
   "execution_count": 17,
   "id": "cdc05be1-d717-4a38-8df9-d361a793b9e5",
   "metadata": {},
   "outputs": [],
   "source": [
    "levi= pd.Series(1, index=multi)#.sample(10)\n",
    "# levi.loc[levi.sample(10).index]=0\n",
    "levi.loc[levi.sample(10).index]=0\n",
    "levi.index=multi\n",
    "levi=levi.astype('Sparse[int]')"
   ]
  },
  {
   "cell_type": "code",
   "execution_count": 25,
   "id": "dfb74280-ffc8-4a6a-8caf-8b0e81179381",
   "metadata": {},
   "outputs": [
    {
     "data": {
      "text/plain": [
       "nodes  edges\n",
       "a      0        1\n",
       "       1        0\n",
       "       2        0\n",
       "       3        1\n",
       "b      0        1\n",
       "       1        1\n",
       "       2        0\n",
       "       3        0\n",
       "c      0        0\n",
       "       1        1\n",
       "       2        1\n",
       "       3        0\n",
       "d      0        0\n",
       "       1        1\n",
       "       2        1\n",
       "       3        1\n",
       "e      0        1\n",
       "       1        0\n",
       "       2        0\n",
       "       3        0\n",
       "dtype: Sparse[int64, 0]"
      ]
     },
     "execution_count": 25,
     "metadata": {},
     "output_type": "execute_result"
    }
   ],
   "source": [
    "levi"
   ]
  },
  {
   "cell_type": "code",
   "execution_count": 16,
   "id": "ba4ac595-7b96-499e-b20d-bd552d1bddc5",
   "metadata": {},
   "outputs": [
    {
     "ename": "SystemError",
     "evalue": "numpy/core/src/multiarray/iterators.c:185: bad argument to internal function",
     "output_type": "error",
     "traceback": [
      "\u001b[0;31m---------------------------------------------------------------------------\u001b[0m",
      "\u001b[0;31mSystemError\u001b[0m                               Traceback (most recent call last)",
      "Cell \u001b[0;32mIn[16], line 1\u001b[0m\n\u001b[0;32m----> 1\u001b[0m \u001b[43mlevi\u001b[49m\u001b[38;5;241;43m.\u001b[39;49m\u001b[43msparse\u001b[49m\u001b[38;5;241;43m.\u001b[39;49m\u001b[43mto_coo\u001b[49m\u001b[43m(\u001b[49m\u001b[43mrow_levels\u001b[49m\u001b[38;5;241;43m=\u001b[39;49m\u001b[43m[\u001b[49m\u001b[38;5;124;43m'\u001b[39;49m\u001b[38;5;124;43medges\u001b[39;49m\u001b[38;5;124;43m'\u001b[39;49m\u001b[43m]\u001b[49m\u001b[43m,\u001b[49m\u001b[43m \u001b[49m\u001b[43mcolumn_levels\u001b[49m\u001b[38;5;241;43m=\u001b[39;49m\u001b[43m[\u001b[49m\u001b[38;5;124;43m'\u001b[39;49m\u001b[38;5;124;43mnodes\u001b[39;49m\u001b[38;5;124;43m'\u001b[39;49m\u001b[43m]\u001b[49m\u001b[43m)\u001b[49m\n",
      "File \u001b[0;32m~/.pyenv/versions/grabble/lib/python3.10/site-packages/pandas/core/arrays/sparse/accessor.py:187\u001b[0m, in \u001b[0;36mSparseAccessor.to_coo\u001b[0;34m(self, row_levels, column_levels, sort_labels)\u001b[0m\n\u001b[1;32m    111\u001b[0m \u001b[38;5;250m\u001b[39m\u001b[38;5;124;03m\"\"\"\u001b[39;00m\n\u001b[1;32m    112\u001b[0m \u001b[38;5;124;03mCreate a scipy.sparse.coo_matrix from a Series with MultiIndex.\u001b[39;00m\n\u001b[1;32m    113\u001b[0m \n\u001b[0;32m   (...)\u001b[0m\n\u001b[1;32m    183\u001b[0m \u001b[38;5;124;03m[('a', 0), ('a', 1), ('b', 0), ('b', 1)]\u001b[39;00m\n\u001b[1;32m    184\u001b[0m \u001b[38;5;124;03m\"\"\"\u001b[39;00m\n\u001b[1;32m    185\u001b[0m \u001b[38;5;28;01mfrom\u001b[39;00m \u001b[38;5;21;01mpandas\u001b[39;00m\u001b[38;5;21;01m.\u001b[39;00m\u001b[38;5;21;01mcore\u001b[39;00m\u001b[38;5;21;01m.\u001b[39;00m\u001b[38;5;21;01marrays\u001b[39;00m\u001b[38;5;21;01m.\u001b[39;00m\u001b[38;5;21;01msparse\u001b[39;00m\u001b[38;5;21;01m.\u001b[39;00m\u001b[38;5;21;01mscipy_sparse\u001b[39;00m \u001b[38;5;28;01mimport\u001b[39;00m sparse_series_to_coo\n\u001b[0;32m--> 187\u001b[0m A, rows, columns \u001b[38;5;241m=\u001b[39m \u001b[43msparse_series_to_coo\u001b[49m\u001b[43m(\u001b[49m\n\u001b[1;32m    188\u001b[0m \u001b[43m    \u001b[49m\u001b[38;5;28;43mself\u001b[39;49m\u001b[38;5;241;43m.\u001b[39;49m\u001b[43m_parent\u001b[49m\u001b[43m,\u001b[49m\u001b[43m \u001b[49m\u001b[43mrow_levels\u001b[49m\u001b[43m,\u001b[49m\u001b[43m \u001b[49m\u001b[43mcolumn_levels\u001b[49m\u001b[43m,\u001b[49m\u001b[43m \u001b[49m\u001b[43msort_labels\u001b[49m\u001b[38;5;241;43m=\u001b[39;49m\u001b[43msort_labels\u001b[49m\n\u001b[1;32m    189\u001b[0m \u001b[43m\u001b[49m\u001b[43m)\u001b[49m\n\u001b[1;32m    190\u001b[0m \u001b[38;5;28;01mreturn\u001b[39;00m A, rows, columns\n",
      "File \u001b[0;32m~/.pyenv/versions/grabble/lib/python3.10/site-packages/pandas/core/arrays/sparse/scipy_sparse.py:167\u001b[0m, in \u001b[0;36msparse_series_to_coo\u001b[0;34m(ss, row_levels, column_levels, sort_labels)\u001b[0m\n\u001b[1;32m    164\u001b[0m row_levels \u001b[38;5;241m=\u001b[39m [ss\u001b[38;5;241m.\u001b[39mindex\u001b[38;5;241m.\u001b[39m_get_level_number(x) \u001b[38;5;28;01mfor\u001b[39;00m x \u001b[38;5;129;01min\u001b[39;00m row_levels]\n\u001b[1;32m    165\u001b[0m column_levels \u001b[38;5;241m=\u001b[39m [ss\u001b[38;5;241m.\u001b[39mindex\u001b[38;5;241m.\u001b[39m_get_level_number(x) \u001b[38;5;28;01mfor\u001b[39;00m x \u001b[38;5;129;01min\u001b[39;00m column_levels]\n\u001b[0;32m--> 167\u001b[0m v, i, j, rows, columns \u001b[38;5;241m=\u001b[39m \u001b[43m_to_ijv\u001b[49m\u001b[43m(\u001b[49m\n\u001b[1;32m    168\u001b[0m \u001b[43m    \u001b[49m\u001b[43mss\u001b[49m\u001b[43m,\u001b[49m\u001b[43m \u001b[49m\u001b[43mrow_levels\u001b[49m\u001b[38;5;241;43m=\u001b[39;49m\u001b[43mrow_levels\u001b[49m\u001b[43m,\u001b[49m\u001b[43m \u001b[49m\u001b[43mcolumn_levels\u001b[49m\u001b[38;5;241;43m=\u001b[39;49m\u001b[43mcolumn_levels\u001b[49m\u001b[43m,\u001b[49m\u001b[43m \u001b[49m\u001b[43msort_labels\u001b[49m\u001b[38;5;241;43m=\u001b[39;49m\u001b[43msort_labels\u001b[49m\n\u001b[1;32m    169\u001b[0m \u001b[43m\u001b[49m\u001b[43m)\u001b[49m\n\u001b[1;32m    170\u001b[0m sparse_matrix \u001b[38;5;241m=\u001b[39m scipy\u001b[38;5;241m.\u001b[39msparse\u001b[38;5;241m.\u001b[39mcoo_matrix(\n\u001b[1;32m    171\u001b[0m     (v, (i, j)), shape\u001b[38;5;241m=\u001b[39m(\u001b[38;5;28mlen\u001b[39m(rows), \u001b[38;5;28mlen\u001b[39m(columns))\n\u001b[1;32m    172\u001b[0m )\n\u001b[1;32m    173\u001b[0m \u001b[38;5;28;01mreturn\u001b[39;00m sparse_matrix, rows, columns\n",
      "File \u001b[0;32m~/.pyenv/versions/grabble/lib/python3.10/site-packages/pandas/core/arrays/sparse/scipy_sparse.py:132\u001b[0m, in \u001b[0;36m_to_ijv\u001b[0;34m(ss, row_levels, column_levels, sort_labels)\u001b[0m\n\u001b[1;32m    129\u001b[0m values \u001b[38;5;241m=\u001b[39m sp_vals[na_mask]\n\u001b[1;32m    130\u001b[0m valid_ilocs \u001b[38;5;241m=\u001b[39m ss\u001b[38;5;241m.\u001b[39marray\u001b[38;5;241m.\u001b[39msp_index\u001b[38;5;241m.\u001b[39mindices[na_mask]\n\u001b[0;32m--> 132\u001b[0m i_coords, i_labels \u001b[38;5;241m=\u001b[39m \u001b[43m_levels_to_axis\u001b[49m\u001b[43m(\u001b[49m\n\u001b[1;32m    133\u001b[0m \u001b[43m    \u001b[49m\u001b[43mss\u001b[49m\u001b[43m,\u001b[49m\u001b[43m \u001b[49m\u001b[43mrow_levels\u001b[49m\u001b[43m,\u001b[49m\u001b[43m \u001b[49m\u001b[43mvalid_ilocs\u001b[49m\u001b[43m,\u001b[49m\u001b[43m \u001b[49m\u001b[43msort_labels\u001b[49m\u001b[38;5;241;43m=\u001b[39;49m\u001b[43msort_labels\u001b[49m\n\u001b[1;32m    134\u001b[0m \u001b[43m\u001b[49m\u001b[43m)\u001b[49m\n\u001b[1;32m    136\u001b[0m j_coords, j_labels \u001b[38;5;241m=\u001b[39m _levels_to_axis(\n\u001b[1;32m    137\u001b[0m     ss, column_levels, valid_ilocs, sort_labels\u001b[38;5;241m=\u001b[39msort_labels\n\u001b[1;32m    138\u001b[0m )\n\u001b[1;32m    140\u001b[0m \u001b[38;5;28;01mreturn\u001b[39;00m values, i_coords, j_coords, i_labels, j_labels\n",
      "File \u001b[0;32m~/.pyenv/versions/grabble/lib/python3.10/site-packages/pandas/core/arrays/sparse/scipy_sparse.py:75\u001b[0m, in \u001b[0;36m_levels_to_axis\u001b[0;34m(ss, levels, valid_ilocs, sort_labels)\u001b[0m\n\u001b[1;32m     72\u001b[0m     ax_labels \u001b[38;5;241m=\u001b[39m ss\u001b[38;5;241m.\u001b[39mindex\u001b[38;5;241m.\u001b[39mlevels[levels[\u001b[38;5;241m0\u001b[39m]]\n\u001b[1;32m     74\u001b[0m \u001b[38;5;28;01melse\u001b[39;00m:\n\u001b[0;32m---> 75\u001b[0m     levels_values \u001b[38;5;241m=\u001b[39m \u001b[43mlib\u001b[49m\u001b[38;5;241;43m.\u001b[39;49m\u001b[43mfast_zip\u001b[49m\u001b[43m(\u001b[49m\n\u001b[1;32m     76\u001b[0m \u001b[43m        \u001b[49m\u001b[43m[\u001b[49m\u001b[43mss\u001b[49m\u001b[38;5;241;43m.\u001b[39;49m\u001b[43mindex\u001b[49m\u001b[38;5;241;43m.\u001b[39;49m\u001b[43mget_level_values\u001b[49m\u001b[43m(\u001b[49m\u001b[43mlvl\u001b[49m\u001b[43m)\u001b[49m\u001b[38;5;241;43m.\u001b[39;49m\u001b[43mvalues\u001b[49m\u001b[43m \u001b[49m\u001b[38;5;28;43;01mfor\u001b[39;49;00m\u001b[43m \u001b[49m\u001b[43mlvl\u001b[49m\u001b[43m \u001b[49m\u001b[38;5;129;43;01min\u001b[39;49;00m\u001b[43m \u001b[49m\u001b[43mlevels\u001b[49m\u001b[43m]\u001b[49m\n\u001b[1;32m     77\u001b[0m \u001b[43m    \u001b[49m\u001b[43m)\u001b[49m\n\u001b[1;32m     78\u001b[0m     codes, ax_labels \u001b[38;5;241m=\u001b[39m factorize(levels_values, sort\u001b[38;5;241m=\u001b[39msort_labels)\n\u001b[1;32m     79\u001b[0m     ax_coords \u001b[38;5;241m=\u001b[39m codes[valid_ilocs]\n",
      "File \u001b[0;32m~/.pyenv/versions/grabble/lib/python3.10/site-packages/pandas/_libs/lib.pyx:478\u001b[0m, in \u001b[0;36mpandas._libs.lib.fast_zip\u001b[0;34m()\u001b[0m\n",
      "\u001b[0;31mSystemError\u001b[0m: numpy/core/src/multiarray/iterators.c:185: bad argument to internal function"
     ]
    }
   ],
   "source": [
    "levi.sparse.to_coo(row_levels=['edges'], column_levels=['nodes'])"
   ]
  },
  {
   "cell_type": "code",
   "execution_count": 8,
   "id": "960abaa7-7ed7-4a68-a5d3-690637bbc3fe",
   "metadata": {},
   "outputs": [
    {
     "data": {
      "text/plain": [
       "'1.5.3'"
      ]
     },
     "execution_count": 8,
     "metadata": {},
     "output_type": "execute_result"
    }
   ],
   "source": [
    "pd.__version__"
   ]
  },
  {
   "cell_type": "code",
   "execution_count": 9,
   "id": "c7bf251d-16ce-45d5-b467-36057ec5def3",
   "metadata": {},
   "outputs": [
    {
     "name": "stderr",
     "output_type": "stream",
     "text": [
      "/home/tbsexton/.pyenv/versions/grabble/lib/python3.10/site-packages/_distutils_hack/__init__.py:33: UserWarning: Setuptools is replacing distutils.\n",
      "  warnings.warn(\"Setuptools is replacing distutils.\")\n"
     ]
    },
    {
     "ename": "SystemError",
     "evalue": "initialization of _internal failed without raising an exception",
     "output_type": "error",
     "traceback": [
      "\u001b[0;31m---------------------------------------------------------------------------\u001b[0m",
      "\u001b[0;31mSystemError\u001b[0m                               Traceback (most recent call last)",
      "Cell \u001b[0;32mIn[9], line 1\u001b[0m\n\u001b[0;32m----> 1\u001b[0m \u001b[43mpd\u001b[49m\u001b[38;5;241;43m.\u001b[39;49m\u001b[43mshow_versions\u001b[49m\u001b[43m(\u001b[49m\u001b[43m)\u001b[49m\n",
      "File \u001b[0;32m~/.pyenv/versions/grabble/lib/python3.10/site-packages/pandas/util/_print_versions.py:109\u001b[0m, in \u001b[0;36mshow_versions\u001b[0;34m(as_json)\u001b[0m\n\u001b[1;32m     94\u001b[0m \u001b[38;5;250m\u001b[39m\u001b[38;5;124;03m\"\"\"\u001b[39;00m\n\u001b[1;32m     95\u001b[0m \u001b[38;5;124;03mProvide useful information, important for bug reports.\u001b[39;00m\n\u001b[1;32m     96\u001b[0m \n\u001b[0;32m   (...)\u001b[0m\n\u001b[1;32m    106\u001b[0m \u001b[38;5;124;03m    * If True, outputs info in JSON format to the console.\u001b[39;00m\n\u001b[1;32m    107\u001b[0m \u001b[38;5;124;03m\"\"\"\u001b[39;00m\n\u001b[1;32m    108\u001b[0m sys_info \u001b[38;5;241m=\u001b[39m _get_sys_info()\n\u001b[0;32m--> 109\u001b[0m deps \u001b[38;5;241m=\u001b[39m \u001b[43m_get_dependency_info\u001b[49m\u001b[43m(\u001b[49m\u001b[43m)\u001b[49m\n\u001b[1;32m    111\u001b[0m \u001b[38;5;28;01mif\u001b[39;00m as_json:\n\u001b[1;32m    112\u001b[0m     j \u001b[38;5;241m=\u001b[39m {\u001b[38;5;124m\"\u001b[39m\u001b[38;5;124msystem\u001b[39m\u001b[38;5;124m\"\u001b[39m: sys_info, \u001b[38;5;124m\"\u001b[39m\u001b[38;5;124mdependencies\u001b[39m\u001b[38;5;124m\"\u001b[39m: deps}\n",
      "File \u001b[0;32m~/.pyenv/versions/grabble/lib/python3.10/site-packages/pandas/util/_print_versions.py:88\u001b[0m, in \u001b[0;36m_get_dependency_info\u001b[0;34m()\u001b[0m\n\u001b[1;32m     86\u001b[0m result: \u001b[38;5;28mdict\u001b[39m[\u001b[38;5;28mstr\u001b[39m, JSONSerializable] \u001b[38;5;241m=\u001b[39m {}\n\u001b[1;32m     87\u001b[0m \u001b[38;5;28;01mfor\u001b[39;00m modname \u001b[38;5;129;01min\u001b[39;00m deps:\n\u001b[0;32m---> 88\u001b[0m     mod \u001b[38;5;241m=\u001b[39m \u001b[43mimport_optional_dependency\u001b[49m\u001b[43m(\u001b[49m\u001b[43mmodname\u001b[49m\u001b[43m,\u001b[49m\u001b[43m \u001b[49m\u001b[43merrors\u001b[49m\u001b[38;5;241;43m=\u001b[39;49m\u001b[38;5;124;43m\"\u001b[39;49m\u001b[38;5;124;43mignore\u001b[39;49m\u001b[38;5;124;43m\"\u001b[39;49m\u001b[43m)\u001b[49m\n\u001b[1;32m     89\u001b[0m     result[modname] \u001b[38;5;241m=\u001b[39m get_version(mod) \u001b[38;5;28;01mif\u001b[39;00m mod \u001b[38;5;28;01melse\u001b[39;00m \u001b[38;5;28;01mNone\u001b[39;00m\n\u001b[1;32m     90\u001b[0m \u001b[38;5;28;01mreturn\u001b[39;00m result\n",
      "File \u001b[0;32m~/.pyenv/versions/grabble/lib/python3.10/site-packages/pandas/compat/_optional.py:141\u001b[0m, in \u001b[0;36mimport_optional_dependency\u001b[0;34m(name, extra, errors, min_version)\u001b[0m\n\u001b[1;32m    136\u001b[0m msg \u001b[38;5;241m=\u001b[39m (\n\u001b[1;32m    137\u001b[0m     \u001b[38;5;124mf\u001b[39m\u001b[38;5;124m\"\u001b[39m\u001b[38;5;124mMissing optional dependency \u001b[39m\u001b[38;5;124m'\u001b[39m\u001b[38;5;132;01m{\u001b[39;00minstall_name\u001b[38;5;132;01m}\u001b[39;00m\u001b[38;5;124m'\u001b[39m\u001b[38;5;124m. \u001b[39m\u001b[38;5;132;01m{\u001b[39;00mextra\u001b[38;5;132;01m}\u001b[39;00m\u001b[38;5;124m \u001b[39m\u001b[38;5;124m\"\u001b[39m\n\u001b[1;32m    138\u001b[0m     \u001b[38;5;124mf\u001b[39m\u001b[38;5;124m\"\u001b[39m\u001b[38;5;124mUse pip or conda to install \u001b[39m\u001b[38;5;132;01m{\u001b[39;00minstall_name\u001b[38;5;132;01m}\u001b[39;00m\u001b[38;5;124m.\u001b[39m\u001b[38;5;124m\"\u001b[39m\n\u001b[1;32m    139\u001b[0m )\n\u001b[1;32m    140\u001b[0m \u001b[38;5;28;01mtry\u001b[39;00m:\n\u001b[0;32m--> 141\u001b[0m     module \u001b[38;5;241m=\u001b[39m \u001b[43mimportlib\u001b[49m\u001b[38;5;241;43m.\u001b[39;49m\u001b[43mimport_module\u001b[49m\u001b[43m(\u001b[49m\u001b[43mname\u001b[49m\u001b[43m)\u001b[49m\n\u001b[1;32m    142\u001b[0m \u001b[38;5;28;01mexcept\u001b[39;00m \u001b[38;5;167;01mImportError\u001b[39;00m:\n\u001b[1;32m    143\u001b[0m     \u001b[38;5;28;01mif\u001b[39;00m errors \u001b[38;5;241m==\u001b[39m \u001b[38;5;124m\"\u001b[39m\u001b[38;5;124mraise\u001b[39m\u001b[38;5;124m\"\u001b[39m:\n",
      "File \u001b[0;32m~/.pyenv/versions/grabble/lib/python3.10/importlib/__init__.py:126\u001b[0m, in \u001b[0;36mimport_module\u001b[0;34m(name, package)\u001b[0m\n\u001b[1;32m    124\u001b[0m             \u001b[38;5;28;01mbreak\u001b[39;00m\n\u001b[1;32m    125\u001b[0m         level \u001b[38;5;241m+\u001b[39m\u001b[38;5;241m=\u001b[39m \u001b[38;5;241m1\u001b[39m\n\u001b[0;32m--> 126\u001b[0m \u001b[38;5;28;01mreturn\u001b[39;00m \u001b[43m_bootstrap\u001b[49m\u001b[38;5;241;43m.\u001b[39;49m\u001b[43m_gcd_import\u001b[49m\u001b[43m(\u001b[49m\u001b[43mname\u001b[49m\u001b[43m[\u001b[49m\u001b[43mlevel\u001b[49m\u001b[43m:\u001b[49m\u001b[43m]\u001b[49m\u001b[43m,\u001b[49m\u001b[43m \u001b[49m\u001b[43mpackage\u001b[49m\u001b[43m,\u001b[49m\u001b[43m \u001b[49m\u001b[43mlevel\u001b[49m\u001b[43m)\u001b[49m\n",
      "File \u001b[0;32m<frozen importlib._bootstrap>:1050\u001b[0m, in \u001b[0;36m_gcd_import\u001b[0;34m(name, package, level)\u001b[0m\n",
      "File \u001b[0;32m<frozen importlib._bootstrap>:1027\u001b[0m, in \u001b[0;36m_find_and_load\u001b[0;34m(name, import_)\u001b[0m\n",
      "File \u001b[0;32m<frozen importlib._bootstrap>:1006\u001b[0m, in \u001b[0;36m_find_and_load_unlocked\u001b[0;34m(name, import_)\u001b[0m\n",
      "File \u001b[0;32m<frozen importlib._bootstrap>:688\u001b[0m, in \u001b[0;36m_load_unlocked\u001b[0;34m(spec)\u001b[0m\n",
      "File \u001b[0;32m<frozen importlib._bootstrap_external>:883\u001b[0m, in \u001b[0;36mexec_module\u001b[0;34m(self, module)\u001b[0m\n",
      "File \u001b[0;32m<frozen importlib._bootstrap>:241\u001b[0m, in \u001b[0;36m_call_with_frames_removed\u001b[0;34m(f, *args, **kwds)\u001b[0m\n",
      "File \u001b[0;32m~/.pyenv/versions/grabble/lib/python3.10/site-packages/numba/__init__.py:42\u001b[0m\n\u001b[1;32m     38\u001b[0m \u001b[38;5;28;01mfrom\u001b[39;00m \u001b[38;5;21;01mnumba\u001b[39;00m\u001b[38;5;21;01m.\u001b[39;00m\u001b[38;5;21;01mcore\u001b[39;00m\u001b[38;5;21;01m.\u001b[39;00m\u001b[38;5;21;01mdecorators\u001b[39;00m \u001b[38;5;28;01mimport\u001b[39;00m (cfunc, generated_jit, jit, njit, stencil,\n\u001b[1;32m     39\u001b[0m                                    jit_module)\n\u001b[1;32m     41\u001b[0m \u001b[38;5;66;03m# Re-export vectorize decorators and the thread layer querying function\u001b[39;00m\n\u001b[0;32m---> 42\u001b[0m \u001b[38;5;28;01mfrom\u001b[39;00m \u001b[38;5;21;01mnumba\u001b[39;00m\u001b[38;5;21;01m.\u001b[39;00m\u001b[38;5;21;01mnp\u001b[39;00m\u001b[38;5;21;01m.\u001b[39;00m\u001b[38;5;21;01mufunc\u001b[39;00m \u001b[38;5;28;01mimport\u001b[39;00m (vectorize, guvectorize, threading_layer,\n\u001b[1;32m     43\u001b[0m                             get_num_threads, set_num_threads,\n\u001b[1;32m     44\u001b[0m                             set_parallel_chunksize, get_parallel_chunksize,\n\u001b[1;32m     45\u001b[0m                             get_thread_id)\n\u001b[1;32m     47\u001b[0m \u001b[38;5;66;03m# Re-export Numpy helpers\u001b[39;00m\n\u001b[1;32m     48\u001b[0m \u001b[38;5;28;01mfrom\u001b[39;00m \u001b[38;5;21;01mnumba\u001b[39;00m\u001b[38;5;21;01m.\u001b[39;00m\u001b[38;5;21;01mnp\u001b[39;00m\u001b[38;5;21;01m.\u001b[39;00m\u001b[38;5;21;01mnumpy_support\u001b[39;00m \u001b[38;5;28;01mimport\u001b[39;00m carray, farray, from_dtype\n",
      "File \u001b[0;32m~/.pyenv/versions/grabble/lib/python3.10/site-packages/numba/np/ufunc/__init__.py:3\u001b[0m\n\u001b[1;32m      1\u001b[0m \u001b[38;5;66;03m# -*- coding: utf-8 -*-\u001b[39;00m\n\u001b[0;32m----> 3\u001b[0m \u001b[38;5;28;01mfrom\u001b[39;00m \u001b[38;5;21;01mnumba\u001b[39;00m\u001b[38;5;21;01m.\u001b[39;00m\u001b[38;5;21;01mnp\u001b[39;00m\u001b[38;5;21;01m.\u001b[39;00m\u001b[38;5;21;01mufunc\u001b[39;00m\u001b[38;5;21;01m.\u001b[39;00m\u001b[38;5;21;01mdecorators\u001b[39;00m \u001b[38;5;28;01mimport\u001b[39;00m Vectorize, GUVectorize, vectorize, guvectorize\n\u001b[1;32m      4\u001b[0m \u001b[38;5;28;01mfrom\u001b[39;00m \u001b[38;5;21;01mnumba\u001b[39;00m\u001b[38;5;21;01m.\u001b[39;00m\u001b[38;5;21;01mnp\u001b[39;00m\u001b[38;5;21;01m.\u001b[39;00m\u001b[38;5;21;01mufunc\u001b[39;00m\u001b[38;5;21;01m.\u001b[39;00m\u001b[38;5;21;01m_internal\u001b[39;00m \u001b[38;5;28;01mimport\u001b[39;00m PyUFunc_None, PyUFunc_Zero, PyUFunc_One\n\u001b[1;32m      5\u001b[0m \u001b[38;5;28;01mfrom\u001b[39;00m \u001b[38;5;21;01mnumba\u001b[39;00m\u001b[38;5;21;01m.\u001b[39;00m\u001b[38;5;21;01mnp\u001b[39;00m\u001b[38;5;21;01m.\u001b[39;00m\u001b[38;5;21;01mufunc\u001b[39;00m \u001b[38;5;28;01mimport\u001b[39;00m _internal, array_exprs\n",
      "File \u001b[0;32m~/.pyenv/versions/grabble/lib/python3.10/site-packages/numba/np/ufunc/decorators.py:3\u001b[0m\n\u001b[1;32m      1\u001b[0m \u001b[38;5;28;01mimport\u001b[39;00m \u001b[38;5;21;01minspect\u001b[39;00m\n\u001b[0;32m----> 3\u001b[0m \u001b[38;5;28;01mfrom\u001b[39;00m \u001b[38;5;21;01mnumba\u001b[39;00m\u001b[38;5;21;01m.\u001b[39;00m\u001b[38;5;21;01mnp\u001b[39;00m\u001b[38;5;21;01m.\u001b[39;00m\u001b[38;5;21;01mufunc\u001b[39;00m \u001b[38;5;28;01mimport\u001b[39;00m _internal\n\u001b[1;32m      4\u001b[0m \u001b[38;5;28;01mfrom\u001b[39;00m \u001b[38;5;21;01mnumba\u001b[39;00m\u001b[38;5;21;01m.\u001b[39;00m\u001b[38;5;21;01mnp\u001b[39;00m\u001b[38;5;21;01m.\u001b[39;00m\u001b[38;5;21;01mufunc\u001b[39;00m\u001b[38;5;21;01m.\u001b[39;00m\u001b[38;5;21;01mparallel\u001b[39;00m \u001b[38;5;28;01mimport\u001b[39;00m ParallelUFuncBuilder, ParallelGUFuncBuilder\n\u001b[1;32m      6\u001b[0m \u001b[38;5;28;01mfrom\u001b[39;00m \u001b[38;5;21;01mnumba\u001b[39;00m\u001b[38;5;21;01m.\u001b[39;00m\u001b[38;5;21;01mcore\u001b[39;00m\u001b[38;5;21;01m.\u001b[39;00m\u001b[38;5;21;01mregistry\u001b[39;00m \u001b[38;5;28;01mimport\u001b[39;00m DelayedRegistry\n",
      "\u001b[0;31mSystemError\u001b[0m: initialization of _internal failed without raising an exception"
     ]
    }
   ],
   "source": [
    "pd.show_versions()"
   ]
  },
  {
   "cell_type": "code",
   "execution_count": null,
   "id": "e69afc1f-4e3d-4d1e-949f-056c9328174c",
   "metadata": {},
   "outputs": [],
   "source": []
  }
 ],
 "metadata": {
  "kernelspec": {
   "display_name": "grabble",
   "language": "python",
   "name": "grabble"
  },
  "language_info": {
   "codemirror_mode": {
    "name": "ipython",
    "version": 3
   },
   "file_extension": ".py",
   "mimetype": "text/x-python",
   "name": "python",
   "nbconvert_exporter": "python",
   "pygments_lexer": "ipython3",
   "version": "3.10.8"
  }
 },
 "nbformat": 4,
 "nbformat_minor": 5
}
