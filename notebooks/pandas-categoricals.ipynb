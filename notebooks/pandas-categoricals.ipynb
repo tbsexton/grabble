{
 "cells": [
  {
   "cell_type": "markdown",
   "id": "5234d29d-6a9c-4c20-a7d9-2f1840d89fe9",
   "metadata": {},
   "source": [
    "## Using Pandas Categoricals\n",
    "\n",
    "possible to use categorical dtypes to carry \"set metadata\" around, instead of external set logic or dataframes. Then, indices can be passed around to consistently slice different dataframes in a bigger Xarray or Anndata object...."
   ]
  },
  {
   "cell_type": "code",
   "execution_count": 1,
   "id": "20d17ca7-7a7f-486d-bbe1-c23330e896af",
   "metadata": {},
   "outputs": [],
   "source": [
    "import pandas as pd\n",
    "import numpy as np"
   ]
  },
  {
   "cell_type": "code",
   "execution_count": 97,
   "id": "a6253a64-4bcd-4ad7-a47d-b118bc3525ae",
   "metadata": {},
   "outputs": [],
   "source": [
    "letters=pd.CategoricalDtype(list('abcdefghijklmnop'))\n",
    "numbers=pd.CategoricalDtype(range(10))"
   ]
  },
  {
   "cell_type": "code",
   "execution_count": 110,
   "id": "98ef2166-4cfb-4ddb-afff-0a378efdd8d1",
   "metadata": {},
   "outputs": [],
   "source": [
    "multi=pd.MultiIndex.from_arrays(\n",
    "    (\n",
    "        pd.Series(letters.categories,dtype=letters).sample(20, replace=True),\n",
    "        pd.Series(numbers.categories, dtype=numbers).sample(20, replace=True),\n",
    "    ), \n",
    "    names=['nodes', 'edges']\n",
    ").drop_duplicates()"
   ]
  },
  {
   "cell_type": "code",
   "execution_count": 111,
   "id": "a24112e8-06a5-46a1-b712-b9064788abb5",
   "metadata": {},
   "outputs": [
    {
     "data": {
      "text/plain": [
       "MultiIndex([('m', 9),\n",
       "            ('b', 2),\n",
       "            ('c', 9),\n",
       "            ('f', 5),\n",
       "            ('k', 4),\n",
       "            ('o', 0),\n",
       "            ('n', 9),\n",
       "            ('a', 1),\n",
       "            ('e', 7),\n",
       "            ('h', 2),\n",
       "            ('d', 1),\n",
       "            ('o', 7),\n",
       "            ('f', 6),\n",
       "            ('p', 1),\n",
       "            ('k', 5),\n",
       "            ('j', 2),\n",
       "            ('n', 6),\n",
       "            ('a', 3),\n",
       "            ('b', 9),\n",
       "            ('k', 1)],\n",
       "           names=['nodes', 'edges'])"
      ]
     },
     "execution_count": 111,
     "metadata": {},
     "output_type": "execute_result"
    }
   ],
   "source": [
    "multi\n"
   ]
  },
  {
   "cell_type": "code",
   "execution_count": 112,
   "id": "83c10a64-d0ee-4fac-9b40-67c94506bbde",
   "metadata": {},
   "outputs": [
    {
     "data": {
      "text/plain": [
       "FrozenList([['a', 'b', 'c', 'd', 'e', 'f', 'g', 'h', 'i', 'j', 'k', 'l', 'm', 'n', 'o', 'p'], [0, 1, 2, 3, 4, 5, 6, 7, 8, 9]])"
      ]
     },
     "execution_count": 112,
     "metadata": {},
     "output_type": "execute_result"
    }
   ],
   "source": [
    "\n",
    "multi.levels"
   ]
  },
  {
   "cell_type": "code",
   "execution_count": 118,
   "id": "cdc05be1-d717-4a38-8df9-d361a793b9e5",
   "metadata": {},
   "outputs": [
    {
     "data": {
      "text/plain": [
       "nodes  edges\n",
       "m      9        1.0\n",
       "b      2        1.0\n",
       "c      9        1.0\n",
       "f      5        1.0\n",
       "k      4        1.0\n",
       "o      0        1.0\n",
       "n      9        1.0\n",
       "a      1        1.0\n",
       "e      7        NaN\n",
       "h      2        NaN\n",
       "d      1        1.0\n",
       "o      7        1.0\n",
       "f      6        NaN\n",
       "p      1        NaN\n",
       "k      5        1.0\n",
       "j      2        1.0\n",
       "n      6        1.0\n",
       "a      3        NaN\n",
       "b      9        1.0\n",
       "k      1        1.0\n",
       "dtype: Sparse[float64, nan]"
      ]
     },
     "execution_count": 118,
     "metadata": {},
     "output_type": "execute_result"
    }
   ],
   "source": [
    "levi= pd.Series(np.nan, index=multi)#.sample(10)\n",
    "# levi.loc[levi.sample(10).index]=0\n",
    "levi.loc[levi.sample(15).index]=1\n",
    "levi.index=multi\n",
    "levi=levi.astype('Sparse')\n",
    "levi"
   ]
  },
  {
   "cell_type": "code",
   "execution_count": 119,
   "id": "dfb74280-ffc8-4a6a-8caf-8b0e81179381",
   "metadata": {},
   "outputs": [
    {
     "data": {
      "text/plain": [
       "nodes  edges\n",
       "m      9        1.0\n",
       "b      2        1.0\n",
       "c      9        1.0\n",
       "f      5        1.0\n",
       "k      4        1.0\n",
       "o      0        1.0\n",
       "n      9        1.0\n",
       "a      1        1.0\n",
       "e      7        NaN\n",
       "h      2        NaN\n",
       "d      1        1.0\n",
       "o      7        1.0\n",
       "f      6        NaN\n",
       "p      1        NaN\n",
       "k      5        1.0\n",
       "j      2        1.0\n",
       "n      6        1.0\n",
       "a      3        NaN\n",
       "b      9        1.0\n",
       "k      1        1.0\n",
       "dtype: Sparse[float64, nan]"
      ]
     },
     "execution_count": 119,
     "metadata": {},
     "output_type": "execute_result"
    }
   ],
   "source": [
    "levi"
   ]
  },
  {
   "cell_type": "code",
   "execution_count": 120,
   "id": "ba4ac595-7b96-499e-b20d-bd552d1bddc5",
   "metadata": {},
   "outputs": [
    {
     "data": {
      "text/plain": [
       "<9x13 sparse matrix of type '<class 'numpy.float64'>'\n",
       "\twith 15 stored elements in COOrdinate format>"
      ]
     },
     "execution_count": 120,
     "metadata": {},
     "output_type": "execute_result"
    }
   ],
   "source": [
    "I, p1, p2 = levi.sparse.to_coo(row_levels=['edges'], column_levels=['nodes'])\n",
    "I"
   ]
  },
  {
   "cell_type": "code",
   "execution_count": 135,
   "id": "1e89bd54-eb1d-401b-ae42-a4cbf1c6f3f0",
   "metadata": {},
   "outputs": [
    {
     "data": {
      "text/plain": [
       "array([[0., 1., 1., 0., 0., 0., 1., 0., 0., 0., 0., 0., 0.],\n",
       "       [1., 0., 1., 0., 0., 0., 1., 0., 0., 0., 0., 0., 1.],\n",
       "       [1., 1., 0., 0., 0., 0., 1., 0., 0., 0., 0., 0., 0.],\n",
       "       [0., 0., 0., 0., 1., 0., 0., 0., 0., 0., 0., 0., 0.],\n",
       "       [0., 0., 0., 1., 0., 0., 0., 1., 0., 0., 1., 0., 0.],\n",
       "       [0., 0., 0., 0., 0., 0., 0., 0., 0., 0., 0., 0., 0.],\n",
       "       [1., 1., 1., 0., 0., 0., 0., 0., 0., 0., 0., 0., 0.],\n",
       "       [0., 0., 0., 0., 1., 0., 0., 0., 0., 0., 1., 0., 0.],\n",
       "       [0., 0., 0., 0., 0., 0., 0., 0., 0., 0., 0., 0., 0.],\n",
       "       [0., 0., 0., 0., 0., 0., 0., 0., 0., 0., 0., 0., 0.],\n",
       "       [0., 0., 0., 0., 1., 0., 0., 1., 0., 0., 0., 0., 0.],\n",
       "       [0., 0., 0., 0., 0., 0., 0., 0., 0., 0., 0., 0., 0.],\n",
       "       [0., 1., 0., 0., 0., 0., 0., 0., 0., 0., 0., 0., 0.]])"
      ]
     },
     "execution_count": 135,
     "metadata": {},
     "output_type": "execute_result"
    }
   ],
   "source": [
    "X=(I.T@I).toarray()\n",
    "X=X-np.diag(np.diag(X))\n",
    "X"
   ]
  },
  {
   "cell_type": "code",
   "execution_count": 136,
   "id": "3e379af5-9ebc-4ea6-b711-3825a99f411c",
   "metadata": {},
   "outputs": [
    {
     "data": {
      "text/plain": [
       "array([[3., 2., 2., 0., 0., 0., 2., 0., 0., 0., 0., 0., 1.],\n",
       "       [2., 4., 2., 0., 0., 0., 2., 0., 0., 0., 0., 0., 0.],\n",
       "       [2., 2., 3., 0., 0., 0., 2., 0., 0., 0., 0., 0., 1.],\n",
       "       [0., 0., 0., 1., 0., 0., 0., 1., 0., 0., 1., 0., 0.],\n",
       "       [0., 0., 0., 0., 3., 0., 0., 1., 0., 0., 1., 0., 0.],\n",
       "       [0., 0., 0., 0., 0., 0., 0., 0., 0., 0., 0., 0., 0.],\n",
       "       [2., 2., 2., 0., 0., 0., 3., 0., 0., 0., 0., 0., 1.],\n",
       "       [0., 0., 0., 1., 1., 0., 0., 2., 0., 0., 1., 0., 0.],\n",
       "       [0., 0., 0., 0., 0., 0., 0., 0., 0., 0., 0., 0., 0.],\n",
       "       [0., 0., 0., 0., 0., 0., 0., 0., 0., 0., 0., 0., 0.],\n",
       "       [0., 0., 0., 1., 1., 0., 0., 1., 0., 0., 2., 0., 0.],\n",
       "       [0., 0., 0., 0., 0., 0., 0., 0., 0., 0., 0., 0., 0.],\n",
       "       [1., 0., 1., 0., 0., 0., 1., 0., 0., 0., 0., 0., 1.]])"
      ]
     },
     "execution_count": 136,
     "metadata": {},
     "output_type": "execute_result"
    }
   ],
   "source": [
    "np.sum(np.multiply(X[:,:,None],X[:,None]), axis=0)\n"
   ]
  },
  {
   "cell_type": "code",
   "execution_count": 137,
   "id": "3a97f2ab-f7b9-413d-a684-e475000723fd",
   "metadata": {},
   "outputs": [
    {
     "data": {
      "text/plain": [
       "array([[3., 2., 2., 0., 0., 0., 2., 0., 0., 0., 0., 0., 1.],\n",
       "       [2., 4., 2., 0., 0., 0., 2., 0., 0., 0., 0., 0., 0.],\n",
       "       [2., 2., 3., 0., 0., 0., 2., 0., 0., 0., 0., 0., 1.],\n",
       "       [0., 0., 0., 1., 0., 0., 0., 1., 0., 0., 1., 0., 0.],\n",
       "       [0., 0., 0., 0., 3., 0., 0., 1., 0., 0., 1., 0., 0.],\n",
       "       [0., 0., 0., 0., 0., 0., 0., 0., 0., 0., 0., 0., 0.],\n",
       "       [2., 2., 2., 0., 0., 0., 3., 0., 0., 0., 0., 0., 1.],\n",
       "       [0., 0., 0., 1., 1., 0., 0., 2., 0., 0., 1., 0., 0.],\n",
       "       [0., 0., 0., 0., 0., 0., 0., 0., 0., 0., 0., 0., 0.],\n",
       "       [0., 0., 0., 0., 0., 0., 0., 0., 0., 0., 0., 0., 0.],\n",
       "       [0., 0., 0., 1., 1., 0., 0., 1., 0., 0., 2., 0., 0.],\n",
       "       [0., 0., 0., 0., 0., 0., 0., 0., 0., 0., 0., 0., 0.],\n",
       "       [1., 0., 1., 0., 0., 0., 1., 0., 0., 0., 0., 0., 1.]])"
      ]
     },
     "execution_count": 137,
     "metadata": {},
     "output_type": "execute_result"
    }
   ],
   "source": [
    "X.T@X"
   ]
  },
  {
   "cell_type": "code",
   "execution_count": 138,
   "id": "a6224e10-318f-4e69-951a-7cc5f98db6af",
   "metadata": {},
   "outputs": [
    {
     "data": {
      "text/plain": [
       "array([[[0., 1., 1., ..., 0., 0., 0.],\n",
       "        [1., 2., 2., ..., 1., 1., 1.],\n",
       "        [1., 2., 2., ..., 1., 1., 1.],\n",
       "        ...,\n",
       "        [0., 1., 1., ..., 0., 0., 0.],\n",
       "        [0., 1., 1., ..., 0., 0., 0.],\n",
       "        [0., 1., 1., ..., 0., 0., 0.]],\n",
       "\n",
       "       [[2., 1., 2., ..., 1., 1., 2.],\n",
       "        [1., 0., 1., ..., 0., 0., 1.],\n",
       "        [2., 1., 2., ..., 1., 1., 2.],\n",
       "        ...,\n",
       "        [1., 0., 1., ..., 0., 0., 1.],\n",
       "        [1., 0., 1., ..., 0., 0., 1.],\n",
       "        [2., 1., 2., ..., 1., 1., 2.]],\n",
       "\n",
       "       [[2., 2., 1., ..., 1., 1., 1.],\n",
       "        [2., 2., 1., ..., 1., 1., 1.],\n",
       "        [1., 1., 0., ..., 0., 0., 0.],\n",
       "        ...,\n",
       "        [1., 1., 0., ..., 0., 0., 0.],\n",
       "        [1., 1., 0., ..., 0., 0., 0.],\n",
       "        [1., 1., 0., ..., 0., 0., 0.]],\n",
       "\n",
       "       ...,\n",
       "\n",
       "       [[0., 0., 0., ..., 0., 0., 0.],\n",
       "        [0., 0., 0., ..., 0., 0., 0.],\n",
       "        [0., 0., 0., ..., 0., 0., 0.],\n",
       "        ...,\n",
       "        [0., 0., 0., ..., 0., 0., 0.],\n",
       "        [0., 0., 0., ..., 0., 0., 0.],\n",
       "        [0., 0., 0., ..., 0., 0., 0.]],\n",
       "\n",
       "       [[0., 0., 0., ..., 0., 0., 0.],\n",
       "        [0., 0., 0., ..., 0., 0., 0.],\n",
       "        [0., 0., 0., ..., 0., 0., 0.],\n",
       "        ...,\n",
       "        [0., 0., 0., ..., 0., 0., 0.],\n",
       "        [0., 0., 0., ..., 0., 0., 0.],\n",
       "        [0., 0., 0., ..., 0., 0., 0.]],\n",
       "\n",
       "       [[0., 1., 0., ..., 0., 0., 0.],\n",
       "        [1., 2., 1., ..., 1., 1., 1.],\n",
       "        [0., 1., 0., ..., 0., 0., 0.],\n",
       "        ...,\n",
       "        [0., 1., 0., ..., 0., 0., 0.],\n",
       "        [0., 1., 0., ..., 0., 0., 0.],\n",
       "        [0., 1., 0., ..., 0., 0., 0.]]])"
      ]
     },
     "execution_count": 138,
     "metadata": {},
     "output_type": "execute_result"
    }
   ],
   "source": [
    "np.add(X.T[:,:,None],X[:,None])"
   ]
  },
  {
   "cell_type": "code",
   "execution_count": 139,
   "id": "1400b950-24ea-4e68-a49d-e452050f8817",
   "metadata": {},
   "outputs": [
    {
     "data": {
      "text/plain": [
       "array([[ 2.,  2.,  2., inf, inf, inf,  2., inf, inf, inf, inf, inf,  2.],\n",
       "       [ 2.,  2.,  2., inf, inf, inf,  2., inf, inf, inf, inf, inf, inf],\n",
       "       [ 2.,  2.,  2., inf, inf, inf,  2., inf, inf, inf, inf, inf,  2.],\n",
       "       [inf, inf, inf,  2., inf, inf, inf,  2., inf, inf,  2., inf, inf],\n",
       "       [inf, inf, inf, inf,  2., inf, inf,  2., inf, inf,  2., inf, inf],\n",
       "       [inf, inf, inf, inf, inf, inf, inf, inf, inf, inf, inf, inf, inf],\n",
       "       [ 2.,  2.,  2., inf, inf, inf,  2., inf, inf, inf, inf, inf,  2.],\n",
       "       [inf, inf, inf,  2.,  2., inf, inf,  2., inf, inf,  2., inf, inf],\n",
       "       [inf, inf, inf, inf, inf, inf, inf, inf, inf, inf, inf, inf, inf],\n",
       "       [inf, inf, inf, inf, inf, inf, inf, inf, inf, inf, inf, inf, inf],\n",
       "       [inf, inf, inf,  2.,  2., inf, inf,  2., inf, inf,  2., inf, inf],\n",
       "       [inf, inf, inf, inf, inf, inf, inf, inf, inf, inf, inf, inf, inf],\n",
       "       [ 2., inf,  2., inf, inf, inf,  2., inf, inf, inf, inf, inf,  2.]])"
      ]
     },
     "execution_count": 139,
     "metadata": {},
     "output_type": "execute_result"
    }
   ],
   "source": [
    "def min_sum(A,B):\n",
    "    left=np.where(A>0, A, np.inf).copy()\n",
    "    right=np.where(B>0, B, np.inf).copy()\n",
    "\n",
    "    brdcst = np.add(left[:,:,None],right[:,None])\n",
    "    return np.min(brdcst, axis=0)\n",
    "# np.min(np.add(X[:,:,None],X[:,None]), axis=0)\n",
    "min_sum(X.T,X)\n",
    "# X.where()\n"
   ]
  },
  {
   "cell_type": "code",
   "execution_count": 140,
   "id": "411fbc67-e115-45f7-b046-194f7dc9f0ff",
   "metadata": {},
   "outputs": [
    {
     "data": {
      "text/plain": [
       "array([[16., 16., 16., inf, inf, inf, 16., inf, inf, inf, inf, inf, 16.],\n",
       "       [16., 16., 16., inf, inf, inf, 16., inf, inf, inf, inf, inf, 16.],\n",
       "       [16., 16., 16., inf, inf, inf, 16., inf, inf, inf, inf, inf, 16.],\n",
       "       [inf, inf, inf, 16., 16., inf, inf, 16., inf, inf, 16., inf, inf],\n",
       "       [inf, inf, inf, 16., 16., inf, inf, 16., inf, inf, 16., inf, inf],\n",
       "       [inf, inf, inf, inf, inf, inf, inf, inf, inf, inf, inf, inf, inf],\n",
       "       [16., 16., 16., inf, inf, inf, 16., inf, inf, inf, inf, inf, 16.],\n",
       "       [inf, inf, inf, 16., 16., inf, inf, 16., inf, inf, 16., inf, inf],\n",
       "       [inf, inf, inf, inf, inf, inf, inf, inf, inf, inf, inf, inf, inf],\n",
       "       [inf, inf, inf, inf, inf, inf, inf, inf, inf, inf, inf, inf, inf],\n",
       "       [inf, inf, inf, 16., 16., inf, inf, 16., inf, inf, 16., inf, inf],\n",
       "       [inf, inf, inf, inf, inf, inf, inf, inf, inf, inf, inf, inf, inf],\n",
       "       [16., 16., 16., inf, inf, inf, 16., inf, inf, inf, inf, inf, 16.]])"
      ]
     },
     "execution_count": 140,
     "metadata": {},
     "output_type": "execute_result"
    }
   ],
   "source": [
    "def tropical_pow(A, n=2):\n",
    "    p = min_sum(A.T,A)\n",
    "    if n<=0:\n",
    "        return p\n",
    "    else: \n",
    "        return tropical_pow(p,n=n-1)\n",
    "\n",
    "tropical_pow(X, 3)"
   ]
  },
  {
   "cell_type": "code",
   "execution_count": null,
   "id": "a444d8d9-3bdc-45db-803f-e04e817ca72b",
   "metadata": {},
   "outputs": [],
   "source": []
  }
 ],
 "metadata": {
  "kernelspec": {
   "display_name": "grabble",
   "language": "python",
   "name": "grabble"
  },
  "language_info": {
   "codemirror_mode": {
    "name": "ipython",
    "version": 3
   },
   "file_extension": ".py",
   "mimetype": "text/x-python",
   "name": "python",
   "nbconvert_exporter": "python",
   "pygments_lexer": "ipython3",
   "version": "3.10.8"
  }
 },
 "nbformat": 4,
 "nbformat_minor": 5
}
