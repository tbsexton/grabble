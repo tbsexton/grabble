{
 "cells": [
  {
   "cell_type": "code",
   "execution_count": 1,
   "id": "a3a189d4-77dc-4e76-ae86-de353dcaaddc",
   "metadata": {},
   "outputs": [],
   "source": [
    "from beartype.door import is_bearable\n",
    "import static_frame as sf \n",
    "from grabble.types import FlagArray\n",
    "import beartype.typing as bt"
   ]
  },
  {
   "cell_type": "code",
   "execution_count": 2,
   "id": "0201d744-cc4d-4beb-b7fa-b324fd9ab023",
   "metadata": {},
   "outputs": [
    {
     "data": {
      "text/html": [
       "<table><tbody><tr><th>0</th><th>0</th><td>1</td></tr><tr><th>0</th><th>2</th><td>1</td></tr><tr><th>1</th><th>2</th><td>1</td></tr></tbody></table>"
      ],
      "text/plain": [
       "<SeriesHE: ('e', 'v')>\n",
       "<IndexHierarchy>\n",
       "0                      0       1\n",
       "0                      2       1\n",
       "1                      2       1\n",
       "<int64>                <int64> <int64>"
      ]
     },
     "execution_count": 2,
     "metadata": {},
     "output_type": "execute_result"
    }
   ],
   "source": [
    "flags = sf.SeriesHE(\n",
    "    (1,1,1), name=('e','v'), \n",
    "    index=sf.IndexHierarchy.from_labels(((0,0),(0,2),(1,2)))\n",
    ")\n",
    "flags"
   ]
  },
  {
   "cell_type": "code",
   "execution_count": 12,
   "id": "6b963e8a-001e-41fc-9db9-93619a683c00",
   "metadata": {},
   "outputs": [
    {
     "name": "stdout",
     "output_type": "stream",
     "text": [
      "typing.Annotated[static_frame.core.series.SeriesHE, IsAttr['name', IsEqual[('e', 'v')]] & IsAttr['index', IsAttr['depth', IsEqual[2]]]]\n"
     ]
    }
   ],
   "source": [
    "# is_bearable(FlagArray, flags)\n",
    "flags.name, flags.index.depth\n",
    "print(FlagArray('e','v'))"
   ]
  },
  {
   "cell_type": "code",
   "execution_count": 4,
   "id": "d195f268-80e1-49c4-8dc5-7268cbed8a8b",
   "metadata": {},
   "outputs": [
    {
     "name": "stdout",
     "output_type": "stream",
     "text": [
      "True\n",
      "False\n"
     ]
    }
   ],
   "source": [
    "print(is_bearable(flags, FlagArray('e','v')))\n",
    "print(is_bearable(flags, FlagArray('e','t')))"
   ]
  },
  {
   "cell_type": "code",
   "execution_count": 9,
   "id": "95a90074-1415-49e0-8e02-0bfd8c98f7f0",
   "metadata": {},
   "outputs": [
    {
     "name": "stdout",
     "output_type": "stream",
     "text": [
      "typing.Annotated[static_frame.core.series.SeriesHE, IsAttr['name', IsEqual[('e', 'v')]] & IsAttr['index', IsAttr['depth', IsEqual[2]]]]\n"
     ]
    }
   ],
   "source": [
    "\n",
    "# from beartype import beartype\n",
    "# @beartype\n",
    "# def "
   ]
  },
  {
   "cell_type": "code",
   "execution_count": null,
   "id": "31f7c0f2-ce9a-440a-bc61-17bd9cc2d6a6",
   "metadata": {},
   "outputs": [],
   "source": []
  },
  {
   "cell_type": "code",
   "execution_count": null,
   "id": "143742eb-3598-4608-92c1-322912fbe243",
   "metadata": {},
   "outputs": [],
   "source": [
    "from beartype import beartype\n",
    "from beartype import typing as bt\n",
    "from beartype.door import TypeHint as th\n",
    "\n",
    "from typing_extensions import NamedTuple\n",
    "import static_frame as sf\n",
    "\n",
    "from dataclasses import dataclass, InitVar\n",
    "import networkx as nx\n",
    "# from typing import NamedTuple\n",
    "from IPython.display import display\n",
    "import numpy as np\n",
    "from numpy.typing import DTypeLike"
   ]
  },
  {
   "cell_type": "markdown",
   "id": "59efeca8",
   "metadata": {},
   "source": [
    "```\n",
    "%%coconut \n",
    "\n",
    "type E_ID = int | str\n",
    "type EntitiesIndex = E_ID$[]\n",
    "\n",
    "type Entity[Data<=bt.Iterable] = (eval(E_ID); Data?)\n",
    "type Entities = Entity$[]\n",
    "\n",
    "type IncidenceID[E1<=E_ID, E2<=E_ID] = (E1; E2)\n",
    "type IncidenceIndex = IncidenceID$[]\n",
    "\n",
    "type Incidence[D<=int|bool|float] = (IncidenceID; D?)\n",
    "type Incidences = Incidence$[]\n",
    "```"
   ]
  },
  {
   "cell_type": "markdown",
   "id": "15938dd0",
   "metadata": {},
   "source": [
    "```\n",
    "def eth(typehint) = typehint |> eval |> th\n",
    "\n",
    "eth(E_ID).is_bearable(1),eth(E_ID).is_bearable(1.10)\n",
    "```"
   ]
  },
  {
   "cell_type": "code",
   "execution_count": 28,
   "id": "cffb8e8d",
   "metadata": {},
   "outputs": [
    {
     "name": "stdout",
     "output_type": "stream",
     "text": [
      "True\n",
      "True\n",
      "True\n",
      "True\n",
      "True\n",
      "True\n"
     ]
    },
    {
     "data": {
      "text/plain": [
       "[True, True, True, True, True, True]"
      ]
     },
     "execution_count": 28,
     "metadata": {},
     "output_type": "execute_result"
    }
   ],
   "source": [
    "class A:\n",
    "    pass\n",
    "\n",
    "class B(A): \n",
    "    pass\n",
    "def check(A:type, B:type):\n",
    "    print(chk:=th(A)>=th(B))\n",
    "    return chk\n",
    "\n",
    "[check(x,y) for x,y in [\n",
    "    (A,B),  # True?\n",
    "    (bt.List[A], bt.List[B]),  # False?\n",
    "    (bt.Tuple[A], bt.Tuple[B]),  # True?\n",
    "    (bt.Sequence[A], bt.Sequence[B]),  # True?\n",
    "    (bt.Union[A,int], bt.Union[B,int]),  # True? \n",
    "    (bt.Callable[[A],int], bt.Callable[[B],int]),  # False?\n",
    "]]\n"
   ]
  },
  {
   "cell_type": "code",
   "execution_count": 6,
   "id": "be3ca96a",
   "metadata": {},
   "outputs": [
    {
     "data": {
      "text/plain": [
       "False"
      ]
     },
     "execution_count": 6,
     "metadata": {},
     "output_type": "execute_result"
    }
   ],
   "source": [
    "from beartype.vale import IsInstance\n",
    "class Token(str):\n",
    "    ...\n",
    "\n",
    "@beartype\n",
    "class Tester(bt.Annotated[str, IsInstance[Token]]):\n",
    "    ...\n",
    "\n",
    "isinstance(Tester('abc'), Token)"
   ]
  },
  {
   "cell_type": "code",
   "execution_count": 7,
   "id": "9daec973",
   "metadata": {},
   "outputs": [
    {
     "ename": "NameError",
     "evalue": "name 'DataV' is not defined",
     "output_type": "error",
     "traceback": [
      "\u001b[0;31m---------------------------------------------------------------------------\u001b[0m",
      "\u001b[0;31mNameError\u001b[0m                                 Traceback (most recent call last)",
      "Cell \u001b[0;32mIn [7], line 70\u001b[0m\n\u001b[1;32m     58\u001b[0m     \u001b[38;5;241m.\u001b[39m\u001b[38;5;241m.\u001b[39m\u001b[38;5;241m.\u001b[39m\n\u001b[1;32m     60\u001b[0m \u001b[38;5;66;03m# EntitiesIndex = bt.Iterable[E_ID]\u001b[39;00m\n\u001b[1;32m     61\u001b[0m \n\u001b[1;32m     62\u001b[0m \n\u001b[0;32m   (...)\u001b[0m\n\u001b[1;32m     67\u001b[0m \u001b[38;5;66;03m#     def __call__(data: DataToTag) -> Entity[DataToTag]\u001b[39;00m\n\u001b[1;32m     68\u001b[0m \u001b[38;5;66;03m#         ...\u001b[39;00m\n\u001b[0;32m---> 70\u001b[0m \u001b[38;5;28;01mclass\u001b[39;00m \u001b[38;5;21;01mDataArray\u001b[39;00m(bt\u001b[38;5;241m.\u001b[39mIterable[\u001b[43mDataV\u001b[49m], Phantom, predicate\u001b[38;5;241m=\u001b[39mof_beartype(bt\u001b[38;5;241m.\u001b[39mIterable[DataV])):\n\u001b[1;32m     71\u001b[0m     \u001b[38;5;241m.\u001b[39m\u001b[38;5;241m.\u001b[39m\u001b[38;5;241m.\u001b[39m\n\u001b[1;32m     73\u001b[0m \u001b[38;5;28;01mclass\u001b[39;00m \u001b[38;5;21;01mEntityIndex\u001b[39;00m(bt\u001b[38;5;241m.\u001b[39mIterable[E_ID], Phantom, predicate\u001b[38;5;241m=\u001b[39mof_beartype(bt\u001b[38;5;241m.\u001b[39mIterable[E_ID])):\n",
      "\u001b[0;31mNameError\u001b[0m: name 'DataV' is not defined"
     ]
    }
   ],
   "source": [
    "from typing import runtime_checkable\n",
    "from phantom import Phantom\n",
    "from phantom.predicates import Predicate\n",
    "from phantom._utils.misc import resolve_class_attr \n",
    "from beartype.door import is_bearable\n",
    "\n",
    "def of_beartype(t: bt.Union[type, bt.Tuple[type, ...]]) -> Predicate[object]:\n",
    "    \"\"\" From `phantom.predicates.generic.of_type`\n",
    "\n",
    "    Create a new predicate that succeeds when its argument is bearable on ``t``.\n",
    "    \"\"\"\n",
    "\n",
    "    def check(a: object) -> bool:\n",
    "        return is_bearable(a, t)\n",
    "\n",
    "    return check\n",
    "\n",
    "\n",
    "T = bt.TypeVar(\"T\", covariant=True)\n",
    "\n",
    "class Bearable(Phantom, bt.Generic[T], abstract=True):\n",
    "    def __init_subclass__(\n",
    "        cls,\n",
    "        bound: type[T] | None = None,\n",
    "        abstract: bool = False,\n",
    "        **kwargs: bt.Any,\n",
    "    )->None:\n",
    "        super().__init_subclass__(bound=bound, abstract=True, **kwargs)\n",
    "        beartype_predicate: Predicate[T] = of_beartype(cls.__bound__)\n",
    "        resolve_class_attr(cls, \"__abstract__\", abstract)\n",
    "        resolve_class_attr(cls, \"__predicate__\", beartype_predicate)\n",
    "\n",
    "\n",
    "class SupportsIDType(\n",
    "    Phantom, \n",
    "    bound=bt.Union[int,str], \n",
    "    predicate=of_beartype(bt.Union[int,str])\n",
    "):\n",
    "    \"\"\"could fix to hashable, positive, etc...later\"\"\"\n",
    "    ...\n",
    "\n",
    "E_ID: bt.TypeAlias = SupportsIDType\n",
    "E1 = bt.TypeVar('E1', bound=E_ID)\n",
    "\n",
    "DT = bt.TypeVar('DT')\n",
    "class DataTuple(\n",
    "    bt.Tuple[DT], \n",
    "    Phantom, \n",
    "    predicate=of_beartype(bt.Tuple[DT])\n",
    "):\n",
    "    \"\"\"Holds entity metadata\"\"\"\n",
    "    ...\n",
    "\n",
    "DataTupleGeneric = bt.TypeVar('DataType', bound=DataTuple)\n",
    "Entity: bt.TypeAlias = DataTuple[E_ID, DataTupleGeneric]  # This hard-codes Optional for everyone...\n",
    "\n",
    "class EntitiesIndex(bt.Iterable[E_ID], Phantom, predicate=of_beartype(bt.Iterable[E_ID])):\n",
    "    ...\n",
    "\n",
    "# EntitiesIndex = bt.Iterable[E_ID]\n",
    "\n",
    "\n",
    "# DataToTag = bt.TypeVar('DataType', bt.Iterable, contravariant=True)\n",
    "\n",
    "# @runtime_checkable\n",
    "# class Taggable(bt.Protocol[DataType]): \n",
    "#     def __call__(data: DataToTag) -> Entity[DataToTag]\n",
    "#         ...\n",
    "\n",
    "class DataArray(bt.Iterable[DataV], Phantom, predicate=of_beartype(bt.Iterable[DataV])):\n",
    "    ...\n",
    "\n",
    "class EntityIndex(bt.Iterable[E_ID], Phantom, predicate=of_beartype(bt.Iterable[E_ID])):\n",
    "    ...\n",
    "\n",
    "class EntityArray(bt.Iterable[Entity], Phantom, predicate=of_beartype(bt.Iterable[Entity])):\n",
    "    ...\n",
    "\n",
    "\n",
    "\n",
    "E2 = bt.TypeVar('E2', bound=E_ID)\n",
    "IncidenceID: bt.TypeAlias = DataTuple[E1, E2]\n",
    "\n",
    "class IncidenceIndex(bt.Iterable[IncidenceID], Phantom, predicate=of_beartype(bt.Iterable[IncidenceID])):\n",
    "    ...\n",
    "\n",
    "class SupportsSparseDType(Bearable, bound=bt.Union[int,bool,float, None]):\n",
    "## what? th(DTypeLike) >= th(bt.Bool)  # ugghhh\n",
    "    ...\n",
    "\n",
    "SparseDTypeVar= bt.TypeVar('SparseDTypeGeneric', bound=SupportsSparseDType)\n",
    "\n",
    "IncidenceGeneric: bt.TypeAlias = DataTuple[IncidenceID, SparseDTypeVar]\n",
    "class IncidenceGenericArray(bt.Iterable[IncidenceGeneric], ):\n",
    "    ...\n",
    "\n",
    "Incidence: bt.TypeAlias = IncidenceGeneric[E1, E2, bt.Literal[True]]  # default \"E1 is incident to E2\"\n",
    "IncidenceArray: bt.TypeAlias = IncidenceGenericArray[E1, E2, bt.Literal[True]]\n"
   ]
  },
  {
   "cell_type": "code",
   "execution_count": 8,
   "id": "84a77a2d",
   "metadata": {},
   "outputs": [
    {
     "data": {
      "text/plain": [
       "(True, True, False)"
      ]
     },
     "execution_count": 8,
     "metadata": {},
     "output_type": "execute_result"
    }
   ],
   "source": [
    "isinstance(1,E_ID), th(E_ID).is_bearable(1),th(E_ID).is_bearable(1.10), "
   ]
  },
  {
   "cell_type": "code",
   "execution_count": 9,
   "id": "5ec17fba",
   "metadata": {},
   "outputs": [
    {
     "ename": "NameError",
     "evalue": "name 'EntityIndex' is not defined",
     "output_type": "error",
     "traceback": [
      "\u001b[0;31m---------------------------------------------------------------------------\u001b[0m",
      "\u001b[0;31mNameError\u001b[0m                                 Traceback (most recent call last)",
      "Cell \u001b[0;32mIn [9], line 1\u001b[0m\n\u001b[0;32m----> 1\u001b[0m (th(\u001b[43mEntityIndex\u001b[49m)\u001b[38;5;241m.\u001b[39mis_bearable((\u001b[38;5;241m1\u001b[39m,\u001b[38;5;241m2\u001b[39m,\u001b[38;5;241m3\u001b[39m)),\n\u001b[1;32m      2\u001b[0m  th(DataTuple)\u001b[38;5;241m.\u001b[39mis_bearable((\u001b[38;5;241m1\u001b[39m,\u001b[38;5;241m2\u001b[39m,\u001b[38;5;241m3\u001b[39m)),\n\u001b[1;32m      3\u001b[0m )\n\u001b[1;32m      5\u001b[0m th(DataTuple)\u001b[38;5;241m<\u001b[39mth(\u001b[38;5;28mtuple\u001b[39m)\n",
      "\u001b[0;31mNameError\u001b[0m: name 'EntityIndex' is not defined"
     ]
    }
   ],
   "source": [
    "(th(EntityIndex).is_bearable((1,2,3)),\n",
    " th(DataTuple).is_bearable((1,2,3)),\n",
    ")\n",
    "\n",
    "th(DataTuple)<th(tuple)"
   ]
  },
  {
   "cell_type": "code",
   "execution_count": 10,
   "id": "fd1d9e32",
   "metadata": {},
   "outputs": [
    {
     "data": {
      "text/plain": [
       "(False, False, False)"
      ]
     },
     "execution_count": 10,
     "metadata": {},
     "output_type": "execute_result"
    }
   ],
   "source": [
    "(th(Entity).is_bearable(('hi',(2,3,4))),  # this works\n",
    " th(Entity).is_bearable((1.20,(2,3,4))),  # 1.2 is not an E_ID\n",
    " th(Entity).is_bearable((0,None)))        # Entity data is optional\n"
   ]
  },
  {
   "cell_type": "code",
   "execution_count": 4,
   "id": "72c655d7",
   "metadata": {},
   "outputs": [
    {
     "ename": "NameError",
     "evalue": "name 'Entity' is not defined",
     "output_type": "error",
     "traceback": [
      "\u001b[0;31m---------------------------------------------------------------------------\u001b[0m",
      "\u001b[0;31mNameError\u001b[0m                                 Traceback (most recent call last)",
      "Cell \u001b[0;32mIn [4], line 6\u001b[0m\n\u001b[1;32m      3\u001b[0m     kind:\u001b[38;5;28mstr\u001b[39m\n\u001b[1;32m      4\u001b[0m     velocity:\u001b[38;5;28mfloat\u001b[39m\n\u001b[0;32m----> 6\u001b[0m MyFakeEntity \u001b[38;5;241m=\u001b[39m \u001b[43mEntity\u001b[49m[Fake]\n\u001b[1;32m      8\u001b[0m (th(MyFakeEntity)\u001b[38;5;241m.\u001b[39mis_bearable((\u001b[38;5;241m0\u001b[39m,Fake(\u001b[38;5;124m'\u001b[39m\u001b[38;5;124mn1\u001b[39m\u001b[38;5;124m'\u001b[39m, \u001b[38;5;124m'\u001b[39m\u001b[38;5;124mbob\u001b[39m\u001b[38;5;124m'\u001b[39m,\u001b[38;5;241m2.5\u001b[39m))),  \u001b[38;5;66;03m# is a \"fake\"\u001b[39;00m\n\u001b[1;32m      9\u001b[0m  th(MyFakeEntity)\u001b[38;5;241m.\u001b[39mis_bearable((\u001b[38;5;241m0\u001b[39m,(\u001b[38;5;124m'\u001b[39m\u001b[38;5;124mn1\u001b[39m\u001b[38;5;124m'\u001b[39m, \u001b[38;5;124m'\u001b[39m\u001b[38;5;124mbob\u001b[39m\u001b[38;5;124m'\u001b[39m,\u001b[38;5;241m2.5\u001b[39m)))       \u001b[38;5;66;03m# technically not a \"fake\"\u001b[39;00m\n\u001b[1;32m     10\u001b[0m )\n",
      "\u001b[0;31mNameError\u001b[0m: name 'Entity' is not defined"
     ]
    }
   ],
   "source": [
    "class Fake(bt.NamedTuple):\n",
    "    name:str\n",
    "    kind:str\n",
    "    velocity:float\n",
    "\n",
    "MyFakeEntity = Entity[Fake]\n",
    "\n",
    "(th(MyFakeEntity).is_bearable((0,Fake('n1', 'bob',2.5))),  # is a \"fake\"\n",
    " th(MyFakeEntity).is_bearable((0,('n1', 'bob',2.5)))       # technically not a \"fake\"\n",
    ")"
   ]
  },
  {
   "cell_type": "code",
   "execution_count": 12,
   "id": "2bd4dddb",
   "metadata": {},
   "outputs": [
    {
     "ename": "NameError",
     "evalue": "name 'EntityTypeOf' is not defined",
     "output_type": "error",
     "traceback": [
      "\u001b[0;31m---------------------------------------------------------------------------\u001b[0m",
      "\u001b[0;31mNameError\u001b[0m                                 Traceback (most recent call last)",
      "Cell \u001b[0;32mIn [12], line 2\u001b[0m\n\u001b[1;32m      1\u001b[0m \u001b[38;5;129m@beartype\u001b[39m\n\u001b[0;32m----> 2\u001b[0m \u001b[38;5;28;01mdef\u001b[39;00m \u001b[38;5;21mto_frame\u001b[39m(record_items: bt\u001b[38;5;241m.\u001b[39mIterable[\u001b[43mEntityTypeOf\u001b[49m[Fake]]):\n\u001b[1;32m      3\u001b[0m     \u001b[38;5;28;01mreturn\u001b[39;00m sf\u001b[38;5;241m.\u001b[39mFrame\u001b[38;5;241m.\u001b[39mfrom_records_items(record_items)\n\u001b[1;32m      5\u001b[0m f1\u001b[38;5;241m=\u001b[39mto_frame((\n\u001b[1;32m      6\u001b[0m     (\u001b[38;5;241m0\u001b[39m,Fake(\u001b[38;5;124m'\u001b[39m\u001b[38;5;124mn1\u001b[39m\u001b[38;5;124m'\u001b[39m, \u001b[38;5;124m'\u001b[39m\u001b[38;5;124mbob\u001b[39m\u001b[38;5;124m'\u001b[39m,\u001b[38;5;241m2.5\u001b[39m)),\n\u001b[1;32m      7\u001b[0m     (\u001b[38;5;241m1\u001b[39m,Fake(\u001b[38;5;124m'\u001b[39m\u001b[38;5;124mn2\u001b[39m\u001b[38;5;124m'\u001b[39m, \u001b[38;5;124m'\u001b[39m\u001b[38;5;124mjill\u001b[39m\u001b[38;5;124m'\u001b[39m, \u001b[38;5;241m3.0\u001b[39m)),\n\u001b[1;32m      8\u001b[0m     (\u001b[38;5;241m2\u001b[39m,Fake(\u001b[38;5;124m'\u001b[39m\u001b[38;5;124mn3\u001b[39m\u001b[38;5;124m'\u001b[39m, \u001b[38;5;124m'\u001b[39m\u001b[38;5;124msteve\u001b[39m\u001b[38;5;124m'\u001b[39m,\u001b[38;5;241m1.2\u001b[39m)),\n\u001b[1;32m      9\u001b[0m     (\u001b[38;5;241m3\u001b[39m,Fake(\u001b[38;5;124m'\u001b[39m\u001b[38;5;124mn4\u001b[39m\u001b[38;5;124m'\u001b[39m, \u001b[38;5;124m'\u001b[39m\u001b[38;5;124mkaren\u001b[39m\u001b[38;5;124m'\u001b[39m, \u001b[38;5;241m2.8\u001b[39m)),\n\u001b[1;32m     10\u001b[0m ))\n",
      "\u001b[0;31mNameError\u001b[0m: name 'EntityTypeOf' is not defined"
     ]
    }
   ],
   "source": [
    "@beartype\n",
    "def to_frame(record_items: bt.Iterable[EntityTypeOf[Fake]]):\n",
    "    return sf.Frame.from_records_items(record_items)\n",
    "\n",
    "f1=to_frame((\n",
    "    (0,Fake('n1', 'bob',2.5)),\n",
    "    (1,Fake('n2', 'jill', 3.0)),\n",
    "    (2,Fake('n3', 'steve',1.2)),\n",
    "    (3,Fake('n4', 'karen', 2.8)),\n",
    "))\n",
    "display(f1)\n",
    "f1.dtypes\n",
    "\n"
   ]
  },
  {
   "cell_type": "code",
   "execution_count": 29,
   "id": "c9fe4635-0fba-485c-b79f-cc0b911f80c5",
   "metadata": {},
   "outputs": [
    {
     "data": {
      "text/plain": [
       "[Fake(name='n1', kind='bob', velocity=2.5),\n",
       " Fake(name='n2', kind='jill', velocity=3.0),\n",
       " Fake(name='n3', kind='steve', velocity=1.2),\n",
       " Fake(name='n4', kind='karen', velocity=2.8)]"
      ]
     },
     "execution_count": 29,
     "metadata": {},
     "output_type": "execute_result"
    }
   ],
   "source": [
    "class Fake(bt.NamedTuple):\n",
    "    name:str\n",
    "    kind:str\n",
    "    velocity:float\n",
    "\n",
    "list(sf.Frame.from_records_items((\n",
    "    (0,Fake('n1', 'bob',2.5)),\n",
    "    (1,Fake('n2', 'jill', 3.0)),\n",
    "    (2,Fake('n3', 'steve',1.2)),\n",
    "    (3,Fake('n4', 'karen', 2.8)),\n",
    ")).iter_tuple(axis=1, constructor=Fake))\n",
    "\n"
   ]
  },
  {
   "cell_type": "code",
   "execution_count": 37,
   "id": "6f32f6a7",
   "metadata": {},
   "outputs": [
    {
     "data": {
      "text/html": [
       "<table><tbody><tr><th>0</th><th>0</th><td>1</td></tr><tr><th>1</th><th>0</th><td>1</td></tr><tr><th>2</th><th>0</th><td>1</td></tr><tr><th>3</th><th>1</th><td>1</td></tr><tr><th>4</th><th>1</th><td>1</td></tr><tr><th>5</th><th>1</th><td>1</td></tr><tr><th>6</th><th>2</th><td>1</td></tr><tr><th>7</th><th>2</th><td>1</td></tr><tr><th>8</th><th>2</th><td>1</td></tr><tr><th>9</th><th>2</th><td>1</td></tr><tr><th>10</th><th>3</th><td>1</td></tr><tr><th>11</th><th>3</th><td>1</td></tr><tr><th>12</th><th>4</th><td>1</td></tr><tr><th>13</th><th>4</th><td>1</td></tr><tr><th>14</th><th>4</th><td>1</td></tr><tr><th>15</th><th>4</th><td>1</td></tr><tr><th>16</th><th>4</th><td>1</td></tr><tr><th>17</th><th>4</th><td>1</td></tr><tr><th>18</th><th>5</th><td>1</td></tr><tr><th>19</th><th>5</th><td>1</td></tr><tr><th>20</th><th>5</th><td>1</td></tr><tr><th>21</th><th>6</th><td>1</td></tr><tr><th>22</th><th>6</th><td>1</td></tr><tr><th>23</th><th>7</th><td>1</td></tr><tr><th>24</th><th>7</th><td>1</td></tr><tr><th>25</th><th>8</th><td>1</td></tr><tr><th>26</th><th>8</th><td>1</td></tr><tr><th>27</th><th>9</th><td>1</td></tr><tr><th>28</th><th>9</th><td>1</td></tr><tr><th>29</th><th>10</th><td>1</td></tr><tr><th>30</th><th>10</th><td>1</td></tr><tr><th>31</th><th>11</th><td>1</td></tr><tr><th>32</th><th>11</th><td>1</td></tr><tr><th>33</th><th>11</th><td>1</td></tr><tr><th>34</th><th>12</th><td>1</td></tr><tr><th>35</th><th>12</th><td>1</td></tr><tr><th>36</th><th>13</th><td>1</td></tr><tr><th>37</th><th>14</th><td>1</td></tr><tr><th>38</th><th>14</th><td>1</td></tr><tr><th>39</th><th>15</th><td>1</td></tr><tr><th>40</th><th>15</th><td>1</td></tr><tr><th>41</th><th>16</th><td>1</td></tr><tr><th>42</th><th>17</th><td>1</td></tr><tr><th>43</th><th>17</th><td>1</td></tr><tr><th>44</th><th>18</th><td>1</td></tr><tr><th>45</th><th>19</th><td>1</td></tr><tr><th>46</th><th>20</th><td>1</td></tr><tr><th>47</th><th>20</th><td>1</td></tr><tr><th>48</th><th>21</th><td>1</td></tr><tr><th>49</th><th>23</th><td>1</td></tr></tbody></table>"
      ],
      "text/plain": [
       "<SeriesHE>\n",
       "<IndexHierarchy>\n",
       "0                0       1\n",
       "1                0       1\n",
       "2                0       1\n",
       "3                1       1\n",
       "4                1       1\n",
       "5                1       1\n",
       "6                2       1\n",
       "7                2       1\n",
       "8                2       1\n",
       "9                2       1\n",
       "10               3       1\n",
       "11               3       1\n",
       "12               4       1\n",
       "13               4       1\n",
       "14               4       1\n",
       "15               4       1\n",
       "16               4       1\n",
       "...              ...     ...\n",
       "33               11      1\n",
       "34               12      1\n",
       "35               12      1\n",
       "36               13      1\n",
       "37               14      1\n",
       "38               14      1\n",
       "39               15      1\n",
       "40               15      1\n",
       "41               16      1\n",
       "42               17      1\n",
       "43               17      1\n",
       "44               18      1\n",
       "45               19      1\n",
       "46               20      1\n",
       "47               20      1\n",
       "48               21      1\n",
       "49               23      1\n",
       "<int64>          <int64> <int64>"
      ]
     },
     "execution_count": 37,
     "metadata": {},
     "output_type": "execute_result"
    }
   ],
   "source": [
    "G = nx.random_graphs.connected_watts_strogatz_graph(25, 4, 0.7)\n",
    "\n",
    "nx.set_edge_attributes(G, values = 1, name = 'weight')\n",
    "nx.set_node_attributes(G, nx.pagerank(G), name='importance')\n",
    "\n",
    "# nf = sf.Frame()\n",
    "\n",
    "# nodelist = nodes.data()\n",
    "#     .assign(name=lambda df: 'node_'+df.index.astype(str))\n",
    "#     .rename_axis(index='nid')\n",
    "# )\n",
    "# edgelist = (\n",
    "#     nx.to_pandas_edgelist(G)\n",
    "#     .rename_axis(index='eid')\n",
    "#     .assign(name=lambda df: 'edge_'+df.index.astype(str))\n",
    "# )#.reset_index()\n",
    "\n",
    "#the source-target way (old, implicitly directed way)\n",
    "sf.Series.from_element(True, index=sf.IndexHierarchy.from_labels(G.edges))\n",
    "\n",
    "# instead, split it out (choose directed vs undirected)\n",
    "ef = sf.Frame.from_records_items(enumerate(G.edges))\n",
    "ein = sf.SeriesHE.from_element(1, index=sf.IndexHierarchy.from_labels(ef[0].items()))\n",
    "eou = sf.SeriesHE.from_element(1, index=sf.IndexHierarchy.from_labels(ef[1].items()))\n",
    "s = sf.SeriesHE.from_concat((ein,eou))\n",
    "# ein.index.values_at_depth(1)\n",
    "ein"
   ]
  },
  {
   "cell_type": "code",
   "execution_count": 43,
   "id": "25230adf-65d3-4bbf-8e2b-5c703d58a427",
   "metadata": {},
   "outputs": [
    {
     "data": {
      "text/html": [
       "<table><tbody><tr><th>0</th><th>0</th><td>1</td></tr><tr><th>1</th><th>0</th><td>1</td></tr><tr><th>2</th><th>0</th><td>1</td></tr><tr><th>3</th><th>1</th><td>1</td></tr><tr><th>4</th><th>1</th><td>1</td></tr><tr><th>5</th><th>1</th><td>1</td></tr><tr><th>6</th><th>2</th><td>1</td></tr><tr><th>7</th><th>2</th><td>1</td></tr><tr><th>8</th><th>2</th><td>1</td></tr><tr><th>9</th><th>2</th><td>1</td></tr></tbody></table>"
      ],
      "text/plain": [
       "<SeriesHE>\n",
       "<IndexHierarchy>\n",
       "0                0       1\n",
       "1                0       1\n",
       "2                0       1\n",
       "3                1       1\n",
       "4                1       1\n",
       "5                1       1\n",
       "6                2       1\n",
       "7                2       1\n",
       "8                2       1\n",
       "9                2       1\n",
       "<int64>          <int64> <int64>"
      ]
     },
     "execution_count": 43,
     "metadata": {},
     "output_type": "execute_result"
    }
   ],
   "source": [
    "s.iloc[:10]"
   ]
  },
  {
   "cell_type": "code",
   "execution_count": 31,
   "id": "546e354d",
   "metadata": {},
   "outputs": [
    {
     "data": {
      "text/plain": [
       "<matplotlib.image.AxesImage at 0x7fb56d780e80>"
      ]
     },
     "execution_count": 31,
     "metadata": {},
     "output_type": "execute_result"
    },
    {
     "data": {
      "image/png": "[encoded data removed]",
      "text/plain": [
       "<Figure size 640x480 with 1 Axes>"
      ]
     },
     "metadata": {},
     "output_type": "display_data"
    }
   ],
   "source": [
    "import scipy.sparse as sprs\n",
    "Bin = sprs.coo_array((ein, (ein.index.values_at_depth(0), ein.index.values_at_depth(1))), shape=(ein.size, 25)).toarray()\n",
    "Bou = sprs.coo_array((eou, (eou.index.values_at_depth(0), eou.index.values_at_depth(1))), shape=(eou.size, 25)).toarray()\n",
    "plt.spy(Bou.T@Bin+Bin.T@Bou)\n",
    "# sf.SeriesHE."
   ]
  },
  {
   "cell_type": "code",
   "execution_count": 32,
   "id": "a36ab103",
   "metadata": {},
   "outputs": [
    {
     "data": {
      "text/plain": [
       "<matplotlib.image.AxesImage at 0x7fb56d663460>"
      ]
     },
     "execution_count": 32,
     "metadata": {},
     "output_type": "execute_result"
    },
    {
     "data": {
      "image/png": "[encoded data removed]",
      "text/plain": [
       "<Figure size 640x480 with 1 Axes>"
      ]
     },
     "metadata": {},
     "output_type": "display_data"
    }
   ],
   "source": [
    "import matplotlib.pyplot as plt\n",
    "plt.spy(nx.to_numpy_array(G))"
   ]
  },
  {
   "cell_type": "code",
   "execution_count": 51,
   "id": "cdbca051-0a5e-442b-b3c0-50ff7f8506c2",
   "metadata": {},
   "outputs": [],
   "source": [
    "from attrs import frozen, evolve, field, define\n",
    "# https://www.wikiwand.com/en/Incidence_structure\n",
    "from bidict import frozenbidict\n",
    "from functools import cache\n",
    "from cytoolz import valmap\n",
    "\n",
    "EntityType = bt.TypeVar('EntityType', bound=bt.Hashable)\n",
    "EntityIndex: bt.TypeAlias = frozenbidict[EntityType,int]\n",
    "\n",
    "@frozen \n",
    "class Incidence:\n",
    "    \"\"\"triple $(E1, E2, I), I \\in E1 \\cross E2$  \n",
    "    we go ahead and store these in `frozenbidict`'s to enable fast lookup of integer IDs \n",
    "    \"\"\"\n",
    "    entities: bt.Tuple[EntityIndex, EntityIndex]\n",
    "    flags: sf.Series  # should be Series[IndexHierarchy[E1, E2], int|bool]\n",
    "    \n",
    "RoleIndex: bt.TypeAlias = frozenbidict[str, Incidence]\n",
    "\n",
    "\n",
    "def matrix_from_incidence(inc: Incidence)-> sprs.csc_array:\n",
    "    \"\"\"detour through coo_array, using size(entity_set)x2 for shape\"\"\"\n",
    "    row_idx = inc.flags.index.values_at_depth(0)\n",
    "    col_idx = inc.flags.index.values_at_depth(1)\n",
    "    shape = tuple(len(bd) for bd in inc.entities)\n",
    "    return sprs.coo_array((ein, (row_idx, col_idx)), shape=shape).tocsc()\n",
    "\n",
    "    \n",
    "def _wrap_incidence_as_role(inc:Incidence|RoleIndex)->RoleIndex:\n",
    "    if isinstance(inc, Incidence):\n",
    "        return frozencbidict(base=inc)\n",
    "    else: \n",
    "        return inc \n",
    "\n",
    "def _get_base_or_first(d, basename):\n",
    "    return d.get(basename, d[next(iter(d))])\n",
    "\n",
    "@frozen \n",
    "class Grabble:\n",
    "    # flags: sf.Series  # Series[IndexHierarchy[E1, E2], int|bool]\n",
    "    role_flags:RoleIndex=field(converter=_wrap_incidence_as_role) \n",
    "    # ^ Different possible roles to play in an incidence structure\n",
    "    base_name:str = 'base'  # the name of the role that we use by default\n",
    "    # roles: bt.Mapping[str, sprs.csc_array] = field(init=False)\n",
    "\n",
    "    # ^ should auto-gen a default \"base\" if not provided\n",
    "    # entity_sets: bt.Tuple[bt.Set, bt.Set]  # O(1) membership tests, not index-construction\n",
    "    # ^ probably better as bidict to enable int/pos <--> name by default. \n",
    "    # B: sprs.csc_array = field()\n",
    "    \n",
    "    @property\n",
    "    def flags(self)->sf.Series:\n",
    "        return _get_base_or_first(self.role_flags,self.base).flags\n",
    "    \n",
    "    @cache\n",
    "    @property\n",
    "    def roles(self)-> bt.Mapping[str, sprs.csc_array]:\n",
    "        return valmap(self.role_flags, matrix_from_incidence)\n",
    "                      \n",
    "    @property\n",
    "    def B(self)->sprs.csc_array:\n",
    "        return _get_base_or_first(self.roles, self.base)\n",
    "    \n",
    "\n",
    "\n",
    "# @define        \n",
    "# class Grabble:\n",
    "#     ..."
   ]
  },
  {
   "cell_type": "code",
   "execution_count": 73,
   "id": "e152222e-7a44-4ddc-b5ec-ea9db16d04f4",
   "metadata": {},
   "outputs": [
    {
     "name": "stdout",
     "output_type": "stream",
     "text": [
      "301 ns ± 1.67 ns per loop (mean ± std. dev. of 7 runs, 1,000,000 loops each)\n",
      "109 ns ± 0.585 ns per loop (mean ± std. dev. of 7 runs, 10,000,000 loops each)\n"
     ]
    }
   ],
   "source": [
    "alph_sr = sf.Series(map(str, range(10000)), index=sf.IndexAutoFactory)\n",
    "alph_bd = frozenbidict(alph_sr.to_pairs())\n",
    "\n",
    "%timeit 500 in alph_sr\n",
    "%timeit 500 in alph_bd"
   ]
  },
  {
   "cell_type": "code",
   "execution_count": 74,
   "id": "2556882d-b2ae-4258-af9c-9c5a0909d36a",
   "metadata": {},
   "outputs": [
    {
     "data": {
      "text/plain": [
       "True"
      ]
     },
     "execution_count": 74,
     "metadata": {},
     "output_type": "execute_result"
    }
   ],
   "source": [
    "500 in alph_sr"
   ]
  },
  {
   "cell_type": "code",
   "execution_count": 78,
   "id": "396a5418-483e-4531-88d8-4bc314d386c7",
   "metadata": {},
   "outputs": [
    {
     "name": "stdout",
     "output_type": "stream",
     "text": [
      "462 ns ± 6.14 ns per loop (mean ± std. dev. of 7 runs, 1,000,000 loops each)\n",
      "563 ns ± 3.13 ns per loop (mean ± std. dev. of 7 runs, 1,000,000 loops each)\n"
     ]
    }
   ],
   "source": [
    "%timeit alph_bd.get(100, alph_bd[next(iter(alph_bd))])\n",
    "%timeit alph_bd.get(10000, alph_bd[next(iter(alph_bd))])"
   ]
  },
  {
   "cell_type": "code",
   "execution_count": 83,
   "id": "9739db90-6c72-48b7-906b-19a1a81ef99c",
   "metadata": {},
   "outputs": [
    {
     "data": {
      "text/plain": [
       "(10000, 10000)"
      ]
     },
     "execution_count": 83,
     "metadata": {},
     "output_type": "execute_result"
    }
   ],
   "source": [
    "tuple(len(bd) for bd in (alph_bd, alph_bd))\n",
    "\n"
   ]
  },
  {
   "cell_type": "code",
   "execution_count": null,
   "id": "2b6f4cdf-fcd2-416f-abad-8da38cd3a78e",
   "metadata": {},
   "outputs": [],
   "source": []
  }
 ],
 "metadata": {
  "kernelspec": {
   "display_name": "grabble",
   "language": "python",
   "name": "grabble"
  },
  "language_info": {
   "codemirror_mode": {
    "name": "ipython",
    "version": 3
   },
   "file_extension": ".py",
   "mimetype": "text/x-python",
   "name": "python",
   "nbconvert_exporter": "python",
   "pygments_lexer": "ipython3",
   "version": "3.10.8"
  },
  "varInspector": {
   "cols": {
    "lenName": 16,
    "lenType": 16,
    "lenVar": 40
   },
   "kernels_config": {
    "python": {
     "delete_cmd_postfix": "",
     "delete_cmd_prefix": "del ",
     "library": "var_list.py",
     "varRefreshCmd": "print(var_dic_list())"
    },
    "r": {
     "delete_cmd_postfix": ") ",
     "delete_cmd_prefix": "rm(",
     "library": "var_list.r",
     "varRefreshCmd": "cat(var_dic_list()) "
    }
   },
   "types_to_exclude": [
    "module",
    "function",
    "builtin_function_or_method",
    "instance",
    "_Feature"
   ],
   "window_display": false
  },
  "vscode": {
   "interpreter": {
    "hash": "f26dd6bcef1330c71b7a570cccce953305347be701bd3db29d302b71f4955358"
   }
  }
 },
 "nbformat": 4,
 "nbformat_minor": 5
}
